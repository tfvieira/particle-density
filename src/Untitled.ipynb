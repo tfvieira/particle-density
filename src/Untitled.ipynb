{
 "cells": [
  {
   "cell_type": "code",
   "execution_count": 1,
   "id": "5539e3d7",
   "metadata": {},
   "outputs": [
    {
     "name": "stderr",
     "output_type": "stream",
     "text": [
      "2021-10-15 10:51:04.920432: I tensorflow/stream_executor/platform/default/dso_loader.cc:49] Successfully opened dynamic library libcudart.so.10.1\n"
     ]
    }
   ],
   "source": [
    "import numpy as np\n",
    "import tensorflow as tf\n",
    "import cv2\n",
    "import matplotlib.pyplot as plt\n",
    "from matplotlib import cm"
   ]
  },
  {
   "cell_type": "code",
   "execution_count": 2,
   "id": "f867f6d8",
   "metadata": {},
   "outputs": [],
   "source": [
    "%matplotlib qt5"
   ]
  },
  {
   "cell_type": "code",
   "execution_count": 3,
   "id": "b29ea527",
   "metadata": {},
   "outputs": [],
   "source": [
    "def plotImg(I, _3d = True, vmax=1):\n",
    "    if _3d:\n",
    "        fig, ax = plt.subplots(subplot_kw={\"projection\": \"3d\"})    \n",
    "\n",
    "        X, Y = np.meshgrid(np.linspace(-1.0,1.0,I.shape[0]), np.linspace(-1.0,1.0, I.shape[1]))\n",
    "        ax.plot_surface(X, Y, I, cmap=cm.coolwarm, linewidth=0, antialiased=False) \n",
    "    else:\n",
    "        plt.imshow(I, vmin=0, vmax=vmax)\n",
    "        \n",
    "    plt.pause(0.0001)"
   ]
  },
  {
   "cell_type": "code",
   "execution_count": 4,
   "id": "f42ed2e7",
   "metadata": {},
   "outputs": [],
   "source": [
    "def model(X, Y, O, framework, expo):\n",
    "    ux, uy, s2, p = O\n",
    "    \n",
    "    z1 = framework.exp( -( ( ((X-ux)**2.0)/(2.0*s2) + ((Y-uy)**2.0)/(2.0*s2) ) )**expo )\n",
    "    \n",
    "    return p*z1\n",
    "\n",
    "\n",
    "\n",
    "\n",
    "def fitImg(img):\n",
    "\n",
    "    expo = 4.0\n",
    "    \n",
    "    t = np.linspace(0,2*np.pi,32)\n",
    "    \n",
    "    X, Y = tf.meshgrid(np.linspace(-1.0,1.0,img.shape[0]), np.linspace(-1.0,1.0, img.shape[1]))\n",
    "\n",
    "\n",
    "    y = img\n",
    "\n",
    "\n",
    "    max_epoch = 1000\n",
    "    lossFnc = tf.keras.losses.mean_squared_error\n",
    "    optimizer = tf.keras.optimizers.SGD(learning_rate = 2.0)\n",
    "    _VARIABLE = type(tf.Variable(0))\n",
    "\n",
    "    ux  = tf.Variable(0.0, dtype=tf.float64)\n",
    "    uy  = tf.Variable(0.0, dtype=tf.float64)\n",
    "    s2  = tf.Variable(0.5, dtype=tf.float64)\n",
    "    p   = tf.Variable(0.1, dtype=tf.float64)\n",
    "\n",
    "    O         = [ux,   uy,   s2,  p]\n",
    "    trainable = [True, True, True, True]\n",
    "\n",
    "    # eta = 1.0\n",
    "    for epoch in range(max_epoch):\n",
    "\n",
    "        with tf.GradientTape(persistent=True) as tape:\n",
    "\n",
    "            variables = [x[0] for x in zip(O, trainable) if x[1]] \n",
    "\n",
    "            tape.watch(variables)\n",
    "\n",
    "            yHat = model(X, Y, O, tf, expo)\n",
    "\n",
    "            loss = tf.reduce_mean(lossFnc(y, yHat))\n",
    "\n",
    "        grads = tape.gradient(loss, variables)\n",
    "        optimizer.apply_gradients(zip(grads, variables))\n",
    "\n",
    "        if epoch%10 == 0:\n",
    "            R = 1.4*(2**expo)*np.sqrt(s2)\n",
    "    #         print([x.numpy() for x in O])\n",
    "    #         print([x.numpy() for x in grads])\n",
    "            #print('batch : %d of %d (loss = %.4f)'%(epoch, max_epoch, loss))   \n",
    "            plt.subplot(1,2,1)\n",
    "            plt.cla()\n",
    "            plotImg( y , False, 0.1)\n",
    "            plt.plot(15.5+uy+R*np.cos(t), 15.5+ux+R*np.sin(t), linewidth=3, color='blue')\n",
    "            plt.subplot(1,2,2)\n",
    "            plt.cla()\n",
    "            plotImg( yHat , False, 0.1)  \n",
    "            plt.plot(15.5+ux+R*np.cos(t), 15.5+uy+R*np.sin(t), linewidth=3, color='red')\n",
    "            plt.pause(0.0001)\n",
    "            \n",
    "            \n",
    "    return O[2].numpy()"
   ]
  },
  {
   "cell_type": "code",
   "execution_count": 9,
   "metadata": {},
   "outputs": [
    {
     "data": {
      "text/plain": [
       "'/home/vieira/Downloads'"
      ]
     },
     "execution_count": 9,
     "metadata": {},
     "output_type": "execute_result"
    }
   ],
   "source": [
    "pwd"
   ]
  },
  {
   "cell_type": "code",
   "execution_count": 5,
   "id": "2b6b4c07",
   "metadata": {},
   "outputs": [
    {
     "ename": "error",
     "evalue": "OpenCV(4.5.1) ../modules/imgproc/src/resize.cpp:4051: error: (-215:Assertion failed) !ssize.empty() in function 'resize'\n",
     "output_type": "error",
     "traceback": [
      "\u001b[0;31m---------------------------------------------------------------------------\u001b[0m",
      "\u001b[0;31merror\u001b[0m                                     Traceback (most recent call last)",
      "\u001b[0;32m/tmp/ipykernel_11669/1766943797.py\u001b[0m in \u001b[0;36m<module>\u001b[0;34m\u001b[0m\n\u001b[1;32m      9\u001b[0m     \u001b[0;31m#%% FIT GAUSSIAN\u001b[0m\u001b[0;34m\u001b[0m\u001b[0;34m\u001b[0m\u001b[0;34m\u001b[0m\u001b[0m\n\u001b[1;32m     10\u001b[0m     \u001b[0mnew_shape\u001b[0m \u001b[0;34m=\u001b[0m \u001b[0;34m(\u001b[0m\u001b[0;36m32\u001b[0m\u001b[0;34m,\u001b[0m \u001b[0;36m32\u001b[0m\u001b[0;34m)\u001b[0m\u001b[0;34m\u001b[0m\u001b[0;34m\u001b[0m\u001b[0m\n\u001b[0;32m---> 11\u001b[0;31m     \u001b[0mimg\u001b[0m \u001b[0;34m=\u001b[0m \u001b[0mcv2\u001b[0m\u001b[0;34m.\u001b[0m\u001b[0mresize\u001b[0m\u001b[0;34m(\u001b[0m\u001b[0mI\u001b[0m\u001b[0;34m,\u001b[0m \u001b[0mnew_shape\u001b[0m\u001b[0;34m,\u001b[0m \u001b[0minterpolation\u001b[0m \u001b[0;34m=\u001b[0m \u001b[0mcv2\u001b[0m\u001b[0;34m.\u001b[0m\u001b[0mINTER_AREA\u001b[0m\u001b[0;34m)\u001b[0m\u001b[0;34m\u001b[0m\u001b[0;34m\u001b[0m\u001b[0m\n\u001b[0m\u001b[1;32m     12\u001b[0m \u001b[0;34m\u001b[0m\u001b[0m\n\u001b[1;32m     13\u001b[0m     \u001b[0mbg\u001b[0m \u001b[0;34m=\u001b[0m \u001b[0;34m(\u001b[0m\u001b[0mnp\u001b[0m\u001b[0;34m.\u001b[0m\u001b[0mmean\u001b[0m\u001b[0;34m(\u001b[0m\u001b[0mimg\u001b[0m\u001b[0;34m[\u001b[0m\u001b[0;34m:\u001b[0m\u001b[0;36m4\u001b[0m\u001b[0;34m,\u001b[0m\u001b[0;34m:\u001b[0m\u001b[0;36m4\u001b[0m\u001b[0;34m]\u001b[0m\u001b[0;34m)\u001b[0m \u001b[0;34m+\u001b[0m \u001b[0mnp\u001b[0m\u001b[0;34m.\u001b[0m\u001b[0mmean\u001b[0m\u001b[0;34m(\u001b[0m\u001b[0mimg\u001b[0m\u001b[0;34m[\u001b[0m\u001b[0;34m:\u001b[0m\u001b[0;36m4\u001b[0m\u001b[0;34m,\u001b[0m\u001b[0;34m-\u001b[0m\u001b[0;36m4\u001b[0m\u001b[0;34m:\u001b[0m\u001b[0;34m]\u001b[0m\u001b[0;34m)\u001b[0m \u001b[0;34m+\u001b[0m \u001b[0mnp\u001b[0m\u001b[0;34m.\u001b[0m\u001b[0mmean\u001b[0m\u001b[0;34m(\u001b[0m\u001b[0mimg\u001b[0m\u001b[0;34m[\u001b[0m\u001b[0;34m-\u001b[0m\u001b[0;36m4\u001b[0m\u001b[0;34m:\u001b[0m\u001b[0;34m,\u001b[0m\u001b[0;34m:\u001b[0m\u001b[0;36m4\u001b[0m\u001b[0;34m]\u001b[0m\u001b[0;34m)\u001b[0m \u001b[0;34m+\u001b[0m \u001b[0mnp\u001b[0m\u001b[0;34m.\u001b[0m\u001b[0mmean\u001b[0m\u001b[0;34m(\u001b[0m\u001b[0mimg\u001b[0m\u001b[0;34m[\u001b[0m\u001b[0;34m-\u001b[0m\u001b[0;36m4\u001b[0m\u001b[0;34m:\u001b[0m\u001b[0;34m,\u001b[0m\u001b[0;34m-\u001b[0m\u001b[0;36m4\u001b[0m\u001b[0;34m:\u001b[0m\u001b[0;34m]\u001b[0m\u001b[0;34m)\u001b[0m\u001b[0;34m)\u001b[0m\u001b[0;34m/\u001b[0m\u001b[0;36m4.0\u001b[0m\u001b[0;34m\u001b[0m\u001b[0;34m\u001b[0m\u001b[0m\n",
      "\u001b[0;31merror\u001b[0m: OpenCV(4.5.1) ../modules/imgproc/src/resize.cpp:4051: error: (-215:Assertion failed) !ssize.empty() in function 'resize'\n"
     ]
    }
   ],
   "source": [
    "#%% Read Image data\n",
    "for ind in range(19):\n",
    "\n",
    "    # Read image\n",
    "    imfilename = '/home/vieira/particle-density/results/10-microns particles-60X/crop_centered/crop_centered_' + str(ind) +'.tif'\n",
    "\n",
    "    I = cv2.imread(imfilename, cv2.IMREAD_GRAYSCALE)\n",
    "\n",
    "    #%% FIT GAUSSIAN\n",
    "    new_shape = (32, 32)\n",
    "    img = cv2.resize(I, new_shape, interpolation = cv2.INTER_AREA)\n",
    "    \n",
    "    bg = (np.mean(img[:4,:4]) + np.mean(img[:4,-4:]) + np.mean(img[-4:,:4]) + np.mean(img[-4:,-4:]))/4.0\n",
    "    img = (img - bg)/255.0    \n",
    "    \n",
    "    s2 = fitImg(img)\n",
    "    \n",
    "    print(ind, s2)"
   ]
  },
  {
   "cell_type": "code",
   "execution_count": 12,
   "id": "c4a759dd",
   "metadata": {},
   "outputs": [
    {
     "ename": "NameError",
     "evalue": "name 's21' is not defined",
     "output_type": "error",
     "traceback": [
      "\u001b[0;31m---------------------------------------------------------------------------\u001b[0m",
      "\u001b[0;31mNameError\u001b[0m                                 Traceback (most recent call last)",
      "\u001b[0;32m/var/folders/g4/rx5nb3854r56krr1spp9n6c80000gq/T/ipykernel_27415/1811516041.py\u001b[0m in \u001b[0;36m<module>\u001b[0;34m\u001b[0m\n\u001b[0;32m----> 1\u001b[0;31m \u001b[0ms21\u001b[0m\u001b[0;34m\u001b[0m\u001b[0;34m\u001b[0m\u001b[0m\n\u001b[0m",
      "\u001b[0;31mNameError\u001b[0m: name 's21' is not defined"
     ]
    }
   ],
   "source": []
  },
  {
   "cell_type": "code",
   "execution_count": 55,
   "id": "0d0ba56e",
   "metadata": {},
   "outputs": [],
   "source": [
    "D = np.array([ [0, 0.03663217360424665],\n",
    "[1, 0.036787580602119924],\n",
    "[2, 0.03715351708033477],\n",
    "[3, 0.03623278369863544],\n",
    "[4, 0.0371574409780778],\n",
    "[5, 0.03763849356936157],\n",
    "[6, 0.03672058368173269],\n",
    "[7, 0.04312988439675552],\n",
    "[8, 0.05086492335023436],\n",
    "[9, 0.07697191289543139],\n",
    "[10, 0.08584123905352231],\n",
    "[11, 0.1142007230167168],\n",
    "[12, 0.13416394695657063],\n",
    "[13, 0.16830583704790883],\n",
    "[14, 0.21115452730389225],\n",
    "[15, 0.2802665068904719],\n",
    "[16, 0.32555063469517054],\n",
    "[17, 0.40193664271089263],\n",
    "[18, 0.43246089183084824] ])"
   ]
  },
  {
   "cell_type": "code",
   "execution_count": 58,
   "id": "72fbb59c",
   "metadata": {},
   "outputs": [
    {
     "data": {
      "text/plain": [
       "[<matplotlib.lines.Line2D at 0x1654bd3d0>]"
      ]
     },
     "execution_count": 58,
     "metadata": {},
     "output_type": "execute_result"
    }
   ],
   "source": [
    "plt.plot(D[:,0], D[:,1])"
   ]
  },
  {
   "cell_type": "code",
   "execution_count": null,
   "id": "12a9518f",
   "metadata": {},
   "outputs": [],
   "source": []
  }
 ],
 "metadata": {
  "interpreter": {
   "hash": "88f3e55fbe1fc29d5fd22ec44388e1bb3f9fc8819b5dd9023f4b2872e364586e"
  },
  "kernelspec": {
   "display_name": "Python 3.9.6 64-bit ('dl-np-down': conda)",
   "name": "python3"
  },
  "language_info": {
   "codemirror_mode": {
    "name": "ipython",
    "version": 3
   },
   "file_extension": ".py",
   "mimetype": "text/x-python",
   "name": "python",
   "nbconvert_exporter": "python",
   "pygments_lexer": "ipython3",
   "version": "3.9.6"
  }
 },
 "nbformat": 4,
 "nbformat_minor": 5
}
