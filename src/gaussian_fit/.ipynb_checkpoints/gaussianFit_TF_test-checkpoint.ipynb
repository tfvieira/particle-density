{
 "cells": [
  {
   "cell_type": "code",
   "execution_count": 1,
   "metadata": {},
   "outputs": [],
   "source": [
    "import tensorflow as tf\n",
    "import numpy as np\n",
    "\n",
    "import matplotlib.pyplot as plt\n",
    "\n",
    "layers = tf.keras.layers"
   ]
  },
  {
   "cell_type": "markdown",
   "metadata": {},
   "source": [
    "## Generic \"fit\" function\n",
    "fits a model given by \"function\" parameterized by O and having desired behavior y"
   ]
  },
  {
   "cell_type": "code",
   "execution_count": 2,
   "metadata": {
    "tags": []
   },
   "outputs": [],
   "source": [
    "def fit(function, O, y):\n",
    "    i = 0\n",
    "    for epoch in range(MAX_EPOCH):\n",
    "\n",
    "        with tf.GradientTape(persistent=True) as tape:\n",
    "\n",
    "            tape.watch(O)\n",
    "\n",
    "            yHat = function(O)\n",
    "          \n",
    "            loss = tf.reduce_mean(lossFnc(y, yHat)) \n",
    "\n",
    "        grads = tape.gradient(loss, O)\n",
    "        optimizer.apply_gradients(zip(grads, O))\n",
    "\n",
    "        if i%100 == 0:\n",
    "            print('batch : %d of %d (loss = %.4f)'%(i,MAX_EPOCH,loss))\n",
    "\n",
    "        i = i + 1"
   ]
  },
  {
   "cell_type": "markdown",
   "metadata": {},
   "source": [
    "## Test fitting 1D model"
   ]
  },
  {
   "cell_type": "code",
   "execution_count": 3,
   "metadata": {},
   "outputs": [],
   "source": [
    "Np = 100"
   ]
  },
  {
   "cell_type": "code",
   "execution_count": 4,
   "metadata": {},
   "outputs": [],
   "source": [
    "def gaussian(O):\n",
    "    \n",
    "    u1, u2, sig21, sig22, p = tuple(O)\n",
    "    \n",
    "    X = np.linspace(-1,1,Np)\n",
    "    \n",
    "    g1 = p*tf.exp(-0.5*(X-u1)**2/sig21)\n",
    "    g2 = (1-p)*tf.exp(-0.5*(X-u2)**2/sig22)\n",
    "    \n",
    "    return g1+g2"
   ]
  },
  {
   "cell_type": "code",
   "execution_count": 5,
   "metadata": {},
   "outputs": [],
   "source": [
    "y = gaussian([-1.2, 0, 2.2**2, 0.8**2, 0.5])"
   ]
  },
  {
   "cell_type": "code",
   "execution_count": 6,
   "metadata": {},
   "outputs": [
    {
     "data": {
      "text/plain": [
       "[<matplotlib.lines.Line2D at 0x7f76e00d3640>]"
      ]
     },
     "execution_count": 6,
     "metadata": {},
     "output_type": "execute_result"
    },
    {
     "data": {
      "image/png": "[encoded data removed]",
      "text/plain": [
       "<Figure size 432x288 with 1 Axes>"
      ]
     },
     "metadata": {
      "needs_background": "light"
     },
     "output_type": "display_data"
    }
   ],
   "source": [
    "plt.plot(y,'.')"
   ]
  },
  {
   "cell_type": "code",
   "execution_count": 7,
   "metadata": {
    "tags": []
   },
   "outputs": [],
   "source": [
    "lossFnc = tf.keras.losses.mean_squared_error\n",
    "#optimizer = optimizer = tf.keras.optimizers.SGD(learning_rate=0.5)\n",
    "optimizer = optimizer = tf.keras.optimizers.Adam(learning_rate=0.5)\n",
    "\n",
    "\n",
    "MAX_EPOCH = 200\n",
    "\n",
    "u1 = tf.Variable(0.0)\n",
    "sig21 = tf.Variable(1.0)\n",
    "\n",
    "u2 = tf.Variable(0.0)\n",
    "sig22 = tf.Variable(1.0)\n",
    "\n",
    "p = tf.Variable(0.0)\n",
    "\n",
    "O = [u1, u2, sig21, sig22, p]"
   ]
  },
  {
   "cell_type": "code",
   "execution_count": null,
   "metadata": {},
   "outputs": [],
   "source": []
  },
  {
   "cell_type": "code",
   "execution_count": 8,
   "metadata": {},
   "outputs": [
    {
     "name": "stdout",
     "output_type": "stream",
     "text": [
      "batch : 0 of 200 (loss = 0.0058)\n",
      "batch : 100 of 200 (loss = 0.0001)\n"
     ]
    }
   ],
   "source": [
    "fit(gaussian, O, y)\n",
    "\n",
    "yHat = gaussian([u1, u2, sig21, sig22, p])"
   ]
  },
  {
   "cell_type": "code",
   "execution_count": 9,
   "metadata": {},
   "outputs": [
    {
     "data": {
      "text/plain": [
       "[<matplotlib.lines.Line2D at 0x7f765c1a2b50>]"
      ]
     },
     "execution_count": 9,
     "metadata": {},
     "output_type": "execute_result"
    },
    {
     "data": {
      "image/png": "[encoded data removed]",
      "text/plain": [
       "<Figure size 432x288 with 1 Axes>"
      ]
     },
     "metadata": {
      "needs_background": "light"
     },
     "output_type": "display_data"
    }
   ],
   "source": [
    "plt.plot(y,'.')\n",
    "plt.plot(yHat,'.')"
   ]
  },
  {
   "cell_type": "markdown",
   "metadata": {},
   "source": [
    "## Test fitting a 2D model"
   ]
  },
  {
   "cell_type": "code",
   "execution_count": 10,
   "metadata": {},
   "outputs": [],
   "source": [
    "N = 32\n",
    "\n",
    "def gaussian2D(O):\n",
    "    u1, u2, S11, S12, S22 = tuple(O)\n",
    "    \n",
    "    I = [[0 for x in range(N)] for y in range(N)]\n",
    "    \n",
    "    for i in range(N):\n",
    "        for j in range(N):\n",
    "            x = tf.constant(-1.0+2.0*i/N)\n",
    "            y = tf.constant(-1.0+2.0*j/N)\n",
    "            tmp1 = ((x-u1)**2)*S11\n",
    "            tmp2 = ((x-u1)*(y-u2))*S12\n",
    "            tmp3 = ((y-u2)**2)*S22\n",
    "\n",
    "            I[i][j] = tf.exp(-0.5*(tmp1+tmp2+tmp3) )\n",
    "    \n",
    "            \n",
    "    return I"
   ]
  },
  {
   "cell_type": "code",
   "execution_count": 11,
   "metadata": {},
   "outputs": [],
   "source": [
    "I = gaussian2D([0.3, -0.1, 1.8, -0.3, 0.4])"
   ]
  },
  {
   "cell_type": "code",
   "execution_count": 12,
   "metadata": {},
   "outputs": [
    {
     "data": {
      "text/plain": [
       "<matplotlib.image.AxesImage at 0x7f765c131640>"
      ]
     },
     "execution_count": 12,
     "metadata": {},
     "output_type": "execute_result"
    },
    {
     "data": {
      "image/png": "[encoded data removed]",
      "text/plain": [
       "<Figure size 432x288 with 1 Axes>"
      ]
     },
     "metadata": {
      "needs_background": "light"
     },
     "output_type": "display_data"
    }
   ],
   "source": [
    "plt.imshow(I)"
   ]
  },
  {
   "cell_type": "code",
   "execution_count": null,
   "metadata": {},
   "outputs": [],
   "source": []
  },
  {
   "cell_type": "code",
   "execution_count": 13,
   "metadata": {
    "tags": []
   },
   "outputs": [],
   "source": [
    "lossFnc = tf.keras.losses.mean_squared_error\n",
    "#optimizer = optimizer = tf.keras.optimizers.SGD(learning_rate=0.5)\n",
    "optimizer = optimizer = tf.keras.optimizers.Adam(learning_rate=0.5)\n",
    "\n",
    "\n",
    "MAX_EPOCH = 100\n",
    "\n",
    "u1 = tf.Variable(0.0)\n",
    "u2 = tf.Variable(0.0)\n",
    "sig11 = tf.Variable(1.0)\n",
    "sig22 = tf.Variable(1.0)\n",
    "sig12 = tf.Variable(1.0)\n",
    "\n",
    "\n",
    "O = [u1, u2, sig11, sig22, sig12]"
   ]
  },
  {
   "cell_type": "code",
   "execution_count": null,
   "metadata": {},
   "outputs": [],
   "source": []
  },
  {
   "cell_type": "code",
   "execution_count": null,
   "metadata": {},
   "outputs": [
    {
     "name": "stdout",
     "output_type": "stream",
     "text": [
      "batch : 0 of 100 (loss = 0.0529)\n"
     ]
    }
   ],
   "source": [
    "fit(gaussian2D, O, I)"
   ]
  },
  {
   "cell_type": "code",
   "execution_count": 48,
   "metadata": {},
   "outputs": [
    {
     "data": {
      "text/plain": [
       "<matplotlib.image.AxesImage at 0x15725cfa0>"
      ]
     },
     "execution_count": 48,
     "metadata": {},
     "output_type": "execute_result"
    },
    {
     "data": {
      "image/png": "[encoded data removed]",
      "text/plain": [
       "<Figure size 432x288 with 1 Axes>"
      ]
     },
     "metadata": {
      "needs_background": "light"
     },
     "output_type": "display_data"
    }
   ],
   "source": [
    "yHat = gaussian2D(O)\n",
    "\n",
    "plt.imshow(yHat)"
   ]
  },
  {
   "cell_type": "code",
   "execution_count": null,
   "metadata": {},
   "outputs": [],
   "source": []
  }
 ],
 "metadata": {
  "kernelspec": {
   "display_name": "Python 3",
   "language": "python",
   "name": "python3"
  },
  "language_info": {
   "codemirror_mode": {
    "name": "ipython",
    "version": 3
   },
   "file_extension": ".py",
   "mimetype": "text/x-python",
   "name": "python",
   "nbconvert_exporter": "python",
   "pygments_lexer": "ipython3",
   "version": "3.8.10"
  }
 },
 "nbformat": 4,
 "nbformat_minor": 4
}
