{
 "cells": [
  {
   "cell_type": "code",
   "execution_count": 1,
   "source": [
    "import tensorflow as tf\n",
    "import numpy as np\n",
    "\n",
    "import matplotlib.pyplot as plt\n",
    "\n",
    "layers = tf.keras.layers"
   ],
   "outputs": [],
   "metadata": {}
  },
  {
   "cell_type": "markdown",
   "source": [
    "## Generic \"fit\" function\n",
    "fits a model given by \"function\" parameterized by O and having desired behavior y"
   ],
   "metadata": {}
  },
  {
   "cell_type": "code",
   "execution_count": 2,
   "source": [
    "def fit(function, O, y):\n",
    "    i = 0\n",
    "    for epoch in range(MAX_EPOCH):\n",
    "\n",
    "        with tf.GradientTape(persistent=True) as tape:\n",
    "\n",
    "            tape.watch(O)\n",
    "\n",
    "            yHat = function(O)\n",
    "          \n",
    "            loss = tf.reduce_mean(lossFnc(y, yHat)) \n",
    "\n",
    "        grads = tape.gradient(loss, O)\n",
    "        optimizer.apply_gradients(zip(grads, O))\n",
    "\n",
    "        if i%100 == 0:\n",
    "            print('batch : %d of %d (loss = %.4f)'%(i,MAX_EPOCH,loss))\n",
    "\n",
    "        i = i + 1"
   ],
   "outputs": [],
   "metadata": {
    "tags": []
   }
  },
  {
   "cell_type": "markdown",
   "source": [
    "## Test fitting 1D model"
   ],
   "metadata": {}
  },
  {
   "cell_type": "code",
   "execution_count": 3,
   "source": [
    "Np = 100"
   ],
   "outputs": [],
   "metadata": {}
  },
  {
   "cell_type": "code",
   "execution_count": 4,
   "source": [
    "def gaussian(O):\n",
    "    \n",
    "    u1, u2, sig21, sig22, p = tuple(O)\n",
    "    \n",
    "    X = np.linspace(-1,1,Np)\n",
    "    \n",
    "    g1 = p*tf.exp(-0.5*(X-u1)**2/sig21)\n",
    "    g2 = (1-p)*tf.exp(-0.5*(X-u2)**2/sig22)\n",
    "    \n",
    "    return g1+g2"
   ],
   "outputs": [],
   "metadata": {}
  },
  {
   "cell_type": "code",
   "execution_count": 5,
   "source": [
    "y = gaussian([-1.2, 0, 2.2**2, 0.8**2, 0.5])"
   ],
   "outputs": [],
   "metadata": {}
  },
  {
   "cell_type": "code",
   "execution_count": 6,
   "source": [
    "plt.plot(y,'.')"
   ],
   "outputs": [
    {
     "output_type": "execute_result",
     "data": {
      "text/plain": [
       "[<matplotlib.lines.Line2D at 0x7ff568405f10>]"
      ]
     },
     "metadata": {},
     "execution_count": 6
    },
    {
     "output_type": "display_data",
     "data": {
      "text/plain": [
       "<Figure size 432x288 with 1 Axes>"
      ],
      "image/png": "[encoded data removed]"
     },
     "metadata": {
      "needs_background": "light"
     }
    }
   ],
   "metadata": {}
  },
  {
   "cell_type": "code",
   "execution_count": 7,
   "source": [
    "lossFnc = tf.keras.losses.mean_squared_error\n",
    "#optimizer = optimizer = tf.keras.optimizers.SGD(learning_rate=0.5)\n",
    "optimizer = optimizer = tf.keras.optimizers.Adam(learning_rate=0.5)\n",
    "\n",
    "\n",
    "MAX_EPOCH = 200\n",
    "\n",
    "u1 = tf.Variable(0.0)\n",
    "sig21 = tf.Variable(1.0)\n",
    "\n",
    "u2 = tf.Variable(0.0)\n",
    "sig22 = tf.Variable(1.0)\n",
    "\n",
    "p = tf.Variable(0.0)\n",
    "\n",
    "O = [u1, u2, sig21, sig22, p]"
   ],
   "outputs": [],
   "metadata": {
    "tags": []
   }
  },
  {
   "cell_type": "code",
   "execution_count": null,
   "source": [],
   "outputs": [],
   "metadata": {}
  },
  {
   "cell_type": "code",
   "execution_count": 8,
   "source": [
    "fit(gaussian, O, y)\n",
    "\n",
    "yHat = gaussian([u1, u2, sig21, sig22, p])"
   ],
   "outputs": [
    {
     "output_type": "stream",
     "name": "stdout",
     "text": [
      "batch : 0 of 200 (loss = 0.0058)\n",
      "batch : 100 of 200 (loss = 0.0001)\n"
     ]
    }
   ],
   "metadata": {}
  },
  {
   "cell_type": "code",
   "execution_count": 9,
   "source": [
    "plt.plot(y,'.')\n",
    "plt.plot(yHat,'.')"
   ],
   "outputs": [
    {
     "output_type": "execute_result",
     "data": {
      "text/plain": [
       "[<matplotlib.lines.Line2D at 0x7ff4f45f4430>]"
      ]
     },
     "metadata": {},
     "execution_count": 9
    },
    {
     "output_type": "display_data",
     "data": {
      "text/plain": [
       "<Figure size 432x288 with 1 Axes>"
      ],
      "image/png": "[encoded data removed]"
     },
     "metadata": {
      "needs_background": "light"
     }
    }
   ],
   "metadata": {}
  },
  {
   "cell_type": "markdown",
   "source": [
    "## Test fitting a 2D model"
   ],
   "metadata": {}
  },
  {
   "cell_type": "code",
   "execution_count": 10,
   "source": [
    "N = 32\n",
    "\n",
    "def gaussian2D(O):\n",
    "    u1, u2, S11, S12, S22 = tuple(O)\n",
    "    \n",
    "    I = [[0 for x in range(N)] for y in range(N)]\n",
    "    \n",
    "    for i in range(N):\n",
    "        for j in range(N):\n",
    "            x = tf.constant(-1.0+2.0*i/N)\n",
    "            y = tf.constant(-1.0+2.0*j/N)\n",
    "            tmp1 = ((x-u1)**2)*S11\n",
    "            tmp2 = ((x-u1)*(y-u2))*S12\n",
    "            tmp3 = ((y-u2)**2)*S22\n",
    "\n",
    "            I[i][j] = tf.exp(-0.5*(tmp1+tmp2+tmp3) )\n",
    "    \n",
    "            \n",
    "    return I"
   ],
   "outputs": [],
   "metadata": {}
  },
  {
   "cell_type": "code",
   "execution_count": 11,
   "source": [
    "I = gaussian2D([0.3, -0.1, 1.8, -0.3, 0.4])"
   ],
   "outputs": [],
   "metadata": {}
  },
  {
   "cell_type": "code",
   "execution_count": 12,
   "source": [
    "plt.imshow(I)"
   ],
   "outputs": [
    {
     "output_type": "execute_result",
     "data": {
      "text/plain": [
       "<matplotlib.image.AxesImage at 0x7ff4f44f6ee0>"
      ]
     },
     "metadata": {},
     "execution_count": 12
    },
    {
     "output_type": "display_data",
     "data": {
      "text/plain": [
       "<Figure size 432x288 with 1 Axes>"
      ],
      "image/png": "[encoded data removed]"
     },
     "metadata": {
      "needs_background": "light"
     }
    }
   ],
   "metadata": {}
  },
  {
   "cell_type": "code",
   "execution_count": null,
   "source": [],
   "outputs": [],
   "metadata": {}
  },
  {
   "cell_type": "code",
   "execution_count": 13,
   "source": [
    "lossFnc = tf.keras.losses.mean_squared_error\n",
    "#optimizer = optimizer = tf.keras.optimizers.SGD(learning_rate=0.5)\n",
    "optimizer = optimizer = tf.keras.optimizers.Adam(learning_rate=0.5)\n",
    "\n",
    "\n",
    "MAX_EPOCH = 100\n",
    "\n",
    "u1 = tf.Variable(0.0)\n",
    "u2 = tf.Variable(0.0)\n",
    "sig11 = tf.Variable(1.0)\n",
    "sig22 = tf.Variable(1.0)\n",
    "sig12 = tf.Variable(1.0)\n",
    "\n",
    "\n",
    "O = [u1, u2, sig11, sig22, sig12]"
   ],
   "outputs": [],
   "metadata": {
    "tags": []
   }
  },
  {
   "cell_type": "code",
   "execution_count": null,
   "source": [],
   "outputs": [],
   "metadata": {}
  },
  {
   "cell_type": "code",
   "execution_count": 14,
   "source": [
    "fit(gaussian2D, O, I)"
   ],
   "outputs": [
    {
     "output_type": "stream",
     "name": "stdout",
     "text": [
      "batch : 0 of 100 (loss = 0.0529)\n"
     ]
    }
   ],
   "metadata": {}
  },
  {
   "cell_type": "code",
   "execution_count": 16,
   "source": [
    "yHat = gaussian2D(O)\n",
    "\n",
    "fig = plt.figure()\n",
    "ax = fig.add_subplot(121)\n",
    "ax.imshow(I)\n",
    "ax.set_aspect('equal')\n",
    "ax.set_xlabel('x')\n",
    "\n",
    "ax = fig.add_subplot(122)\n",
    "plt.contour(yHat)\n",
    "ax.invert_yaxis()\n",
    "ax.set_xlabel('x')\n",
    "ax.set_aspect('equal')\n",
    "plt.show()"
   ],
   "outputs": [
    {
     "output_type": "display_data",
     "data": {
      "text/plain": [
       "<Figure size 432x288 with 2 Axes>"
      ],
      "image/png": "[encoded data removed]"
     },
     "metadata": {
      "needs_background": "light"
     }
    }
   ],
   "metadata": {}
  },
  {
   "cell_type": "code",
   "execution_count": null,
   "source": [],
   "outputs": [],
   "metadata": {}
  }
 ],
 "metadata": {
  "kernelspec": {
   "name": "python3",
   "display_name": "Python 3.8.10 64-bit ('dl': conda)"
  },
  "language_info": {
   "codemirror_mode": {
    "name": "ipython",
    "version": 3
   },
   "file_extension": ".py",
   "mimetype": "text/x-python",
   "name": "python",
   "nbconvert_exporter": "python",
   "pygments_lexer": "ipython3",
   "version": "3.8.10"
  },
  "interpreter": {
   "hash": "f79b107c9bff097d875b935baa5e5b7c85c0956af0c0b34fbac98d537c95b8f4"
  }
 },
 "nbformat": 4,
 "nbformat_minor": 4
}