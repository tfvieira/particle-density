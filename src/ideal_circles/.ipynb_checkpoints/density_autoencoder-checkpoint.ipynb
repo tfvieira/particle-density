{
 "cells": [
  {
   "cell_type": "code",
   "execution_count": null,
   "metadata": {
    "id": "x9zno74esYAp"
   },
   "outputs": [],
   "source": [
    "# Load the TensorBoard notebook extension\n",
    "%load_ext tensorboard"
   ]
  },
  {
   "cell_type": "code",
   "execution_count": null,
   "metadata": {
    "id": "auVxE2vntaRs"
   },
   "outputs": [],
   "source": [
    "# Clear any logs from previous runs\n",
    "!rm -rf ./logs/"
   ]
  },
  {
   "cell_type": "code",
   "execution_count": null,
   "metadata": {
    "id": "7EHhLV4UJHXY"
   },
   "outputs": [],
   "source": [
    "import matplotlib.pyplot as plt\n",
    "import numpy as np\n",
    "import pandas as pd\n",
    "import tensorflow as tf\n",
    "import os\n",
    "import datetime\n",
    "\n",
    "from sklearn.metrics import accuracy_score, precision_score, recall_score\n",
    "from sklearn.model_selection import train_test_split\n",
    "from tensorflow.keras import layers, losses\n",
    "from tensorflow.keras.datasets import fashion_mnist\n",
    "from tensorflow.keras.models import Model"
   ]
  },
  {
   "cell_type": "markdown",
   "metadata": {
    "id": "FQ1pNjURJnHo"
   },
   "source": [
    "## Load dataset"
   ]
  },
  {
   "cell_type": "code",
   "execution_count": null,
   "metadata": {
    "id": "uX9_iiWtJPXf"
   },
   "outputs": [],
   "source": [
    "dataset_path = \"/content/drive/MyDrive/density/dataset_20_200_2\""
   ]
  },
  {
   "cell_type": "code",
   "execution_count": null,
   "metadata": {
    "id": "rSVwGplhJzEJ"
   },
   "outputs": [],
   "source": [
    "files = [file for file in (os.listdir(dataset_path))]\n",
    "files.sort(key = lambda x: int(x.split('.')[0]))"
   ]
  },
  {
   "cell_type": "code",
   "execution_count": null,
   "metadata": {
    "id": "goPJk2eqJ7E0"
   },
   "outputs": [],
   "source": [
    "imgs = [np.load(os.path.join(dataset_path, file)) for file in files]"
   ]
  },
  {
   "cell_type": "code",
   "execution_count": null,
   "metadata": {
    "id": "fs1bu_kWLa8Y"
   },
   "outputs": [],
   "source": [
    "# normalize data\n",
    "x_train = [x.astype('float32')/255 for x in imgs]\n",
    "x_train = np.array(x_train)"
   ]
  },
  {
   "cell_type": "code",
   "execution_count": null,
   "metadata": {
    "colab": {
     "base_uri": "https://localhost:8080/"
    },
    "id": "4tjaAK_2ULHw",
    "outputId": "0c4608c3-cc5b-4d6c-bef3-df44ffe587f9"
   },
   "outputs": [
    {
     "data": {
      "text/plain": [
       "(90, 512, 512)"
      ]
     },
     "execution_count": 8,
     "metadata": {},
     "output_type": "execute_result"
    }
   ],
   "source": [
    "x_train.shape"
   ]
  },
  {
   "cell_type": "code",
   "execution_count": null,
   "metadata": {
    "id": "xvgBvaogURCB"
   },
   "outputs": [],
   "source": [
    "x_train = x_train.reshape((90, 512, 512, 1))"
   ]
  },
  {
   "cell_type": "markdown",
   "metadata": {
    "id": "hJooUmprQGHY"
   },
   "source": [
    "## Create model"
   ]
  },
  {
   "cell_type": "code",
   "execution_count": null,
   "metadata": {
    "id": "IQ56pGt5Lt8H"
   },
   "outputs": [],
   "source": [
    "class DensityEncoder(Model):\n",
    "    def __init__(self):\n",
    "        super(DensityEncoder, self).__init__()\n",
    "        self.encoder = tf.keras.Sequential([\n",
    "            layers.Input(shape=(512, 512, 1)),\n",
    "            # layers.Conv2D(32, (3, 3), activation='relu', padding='same', strides=2),\n",
    "            layers.Conv2D(32, (3, 3), activation='relu', padding='same', strides=2),\n",
    "            layers.Conv2D(32, (3, 3), activation='relu', padding='same', strides=2),\n",
    "            layers.Conv2D(16, (3, 3), activation='relu', padding='same', strides=2),\n",
    "            layers.Conv2D(16, (3, 3), activation='relu', padding='same', strides=2),\n",
    "            # layers.Conv2D(16, (3, 3), activation='relu', padding='same', strides=2),\n",
    "            # layers.Conv2D(8, (3, 3), activation='relu', padding='same', strides=2),\n",
    "            layers.Conv2D(8, (3, 3), activation='relu', padding='same', strides=2),\n",
    "            layers.Conv2D(8, (3, 3), activation='relu', padding='same', strides=2),\n",
    "            layers.Flatten(),\n",
    "            layers.Dense(256, activation='relu'),\n",
    "            layers.Dense(1, activation='relu')])\n",
    "\n",
    "\n",
    "            self.decoder = tf.keras.Sequential([\n",
    "                layers.Dense(256, activation='sigmoid'),\n",
    "                layers.Dense(512, activation='sigmoid'),\n",
    "                layers.Reshape((8, 8, 8)),\n",
    "                # layers.Conv2DTranspose(8, kernel_size=3, strides=2, activation='relu', padding='same'),\n",
    "                layers.Conv2DTranspose(8, kernel_size=3, strides=2, activation='relu', padding='same'),\n",
    "                layers.Conv2DTranspose(8, kernel_size=3, strides=2, activation='relu', padding='same'),\n",
    "                # layers.Conv2DTranspose(16, kernel_size=3, strides=2, activation='relu', padding='same'),\n",
    "                layers.Conv2DTranspose(16, kernel_size=3, strides=2, activation='relu', padding='same'),\n",
    "                layers.Conv2DTranspose(16, kernel_size=3, strides=2, activation='relu', padding='same'),\n",
    "                layers.Conv2DTranspose(32, kernel_size=3, strides=2, activation='relu', padding='same'),\n",
    "                layers.Conv2DTranspose(32, kernel_size=3, strides=2, activation='relu', padding='same'),\n",
    "                # layers.Conv2DTranspose(32, kernel_size=3, strides=2, activation='relu', padding='same'),\n",
    "                layers.Conv2D(1, kernel_size=(3, 3), activation='sigmoid', padding='same')])\n",
    "\n",
    "    def call(self, x):\n",
    "        encoded = self.encoder(x)\n",
    "        decoded = self.decoder(encoded)\n",
    "        return decoded"
   ]
  },
  {
   "cell_type": "code",
   "execution_count": null,
   "metadata": {
    "id": "1Eh0uKxjRIqx"
   },
   "outputs": [],
   "source": [
    "autoencoder = DensityEncoder()\n",
    "autoencoder.compile(optimizer='adam', loss=losses.MeanSquaredError())"
   ]
  },
  {
   "cell_type": "code",
   "execution_count": null,
   "metadata": {
    "colab": {
     "base_uri": "https://localhost:8080/"
    },
    "id": "UKCZz0925YOA",
    "outputId": "14e6ca23-e385-496b-d3cf-64212b93efcd"
   },
   "outputs": [
    {
     "name": "stdout",
     "output_type": "stream",
     "text": [
      "Model: \"sequential\"\n",
      "_________________________________________________________________\n",
      " Layer (type)                Output Shape              Param #   \n",
      "=================================================================\n",
      " conv2d (Conv2D)             (None, 256, 256, 32)      320       \n",
      "                                                                 \n",
      " conv2d_1 (Conv2D)           (None, 128, 128, 32)      9248      \n",
      "                                                                 \n",
      " conv2d_2 (Conv2D)           (None, 64, 64, 16)        4624      \n",
      "                                                                 \n",
      " conv2d_3 (Conv2D)           (None, 32, 32, 16)        2320      \n",
      "                                                                 \n",
      " conv2d_4 (Conv2D)           (None, 16, 16, 8)         1160      \n",
      "                                                                 \n",
      " conv2d_5 (Conv2D)           (None, 8, 8, 8)           584       \n",
      "                                                                 \n",
      " flatten (Flatten)           (None, 512)               0         \n",
      "                                                                 \n",
      " dense (Dense)               (None, 256)               131328    \n",
      "                                                                 \n",
      " dense_1 (Dense)             (None, 1)                 257       \n",
      "                                                                 \n",
      "=================================================================\n",
      "Total params: 149,841\n",
      "Trainable params: 149,841\n",
      "Non-trainable params: 0\n",
      "_________________________________________________________________\n"
     ]
    }
   ],
   "source": [
    "autoencoder.encoder.summary()"
   ]
  },
  {
   "cell_type": "code",
   "execution_count": null,
   "metadata": {
    "colab": {
     "base_uri": "https://localhost:8080/"
    },
    "id": "TNXUTraAR7fy",
    "outputId": "0c97c5d0-1801-4f2d-f0bd-4dcd40b78016"
   },
   "outputs": [
    {
     "name": "stdout",
     "output_type": "stream",
     "text": [
      "Epoch 1/200\n",
      "3/3 [==============================] - 10s 2s/step - loss: 0.2496\n",
      "Epoch 2/200\n",
      "3/3 [==============================] - 1s 417ms/step - loss: 0.2475\n",
      "Epoch 3/200\n",
      "3/3 [==============================] - 1s 421ms/step - loss: 0.2449\n",
      "Epoch 4/200\n",
      "3/3 [==============================] - 1s 420ms/step - loss: 0.2414\n",
      "Epoch 5/200\n",
      "3/3 [==============================] - 1s 419ms/step - loss: 0.2368\n",
      "Epoch 6/200\n",
      "3/3 [==============================] - 1s 423ms/step - loss: 0.2307\n",
      "Epoch 7/200\n",
      "3/3 [==============================] - 1s 423ms/step - loss: 0.2225\n",
      "Epoch 8/200\n",
      "3/3 [==============================] - 1s 422ms/step - loss: 0.2116\n",
      "Epoch 9/200\n",
      "3/3 [==============================] - 1s 424ms/step - loss: 0.1974\n",
      "Epoch 10/200\n",
      "3/3 [==============================] - 1s 421ms/step - loss: 0.1798\n",
      "Epoch 11/200\n",
      "3/3 [==============================] - 1s 420ms/step - loss: 0.1616\n",
      "Epoch 12/200\n",
      "3/3 [==============================] - 1s 427ms/step - loss: 0.1480\n",
      "Epoch 13/200\n",
      "3/3 [==============================] - 1s 424ms/step - loss: 0.1398\n",
      "Epoch 15/200\n",
      "3/3 [==============================] - 1s 434ms/step - loss: 0.1374\n",
      "Epoch 16/200\n",
      "3/3 [==============================] - 1s 428ms/step - loss: 0.1340\n",
      "Epoch 17/200\n",
      "3/3 [==============================] - 1s 432ms/step - loss: 0.1305\n",
      "Epoch 18/200\n",
      "3/3 [==============================] - 1s 427ms/step - loss: 0.1278\n",
      "Epoch 19/200\n",
      "3/3 [==============================] - 1s 431ms/step - loss: 0.1259\n",
      "Epoch 20/200\n",
      "3/3 [==============================] - 1s 429ms/step - loss: 0.1241\n",
      "Epoch 21/200\n",
      "3/3 [==============================] - 1s 432ms/step - loss: 0.1218\n",
      "Epoch 22/200\n",
      "3/3 [==============================] - 1s 432ms/step - loss: 0.1187\n",
      "Epoch 23/200\n",
      "3/3 [==============================] - 1s 436ms/step - loss: 0.1152\n",
      "Epoch 24/200\n",
      "3/3 [==============================] - 1s 427ms/step - loss: 0.1118\n",
      "Epoch 25/200\n",
      "3/3 [==============================] - 1s 431ms/step - loss: 0.1086\n",
      "Epoch 26/200\n",
      "3/3 [==============================] - 1s 429ms/step - loss: 0.1057\n",
      "Epoch 27/200\n",
      "3/3 [==============================] - 1s 466ms/step - loss: 0.1032\n",
      "Epoch 28/200\n",
      "3/3 [==============================] - 1s 465ms/step - loss: 0.1010\n",
      "Epoch 29/200\n",
      "3/3 [==============================] - 1s 433ms/step - loss: 0.0991\n",
      "Epoch 30/200\n",
      "3/3 [==============================] - 1s 430ms/step - loss: 0.0973\n",
      "Epoch 31/200\n",
      "3/3 [==============================] - 1s 434ms/step - loss: 0.0956\n",
      "Epoch 32/200\n",
      "3/3 [==============================] - 1s 437ms/step - loss: 0.0939\n",
      "Epoch 33/200\n",
      "3/3 [==============================] - 1s 430ms/step - loss: 0.0921\n",
      "Epoch 34/200\n",
      "3/3 [==============================] - 1s 437ms/step - loss: 0.0902\n",
      "Epoch 35/200\n",
      "3/3 [==============================] - 1s 434ms/step - loss: 0.0882\n",
      "Epoch 36/200\n",
      "3/3 [==============================] - 1s 432ms/step - loss: 0.0862\n",
      "Epoch 37/200\n",
      "3/3 [==============================] - 1s 432ms/step - loss: 0.0842\n",
      "Epoch 38/200\n",
      "3/3 [==============================] - 1s 433ms/step - loss: 0.0821\n",
      "Epoch 39/200\n",
      "3/3 [==============================] - 1s 433ms/step - loss: 0.0802\n",
      "Epoch 40/200\n",
      "3/3 [==============================] - 1s 443ms/step - loss: 0.0783\n",
      "Epoch 41/200\n",
      "3/3 [==============================] - 1s 436ms/step - loss: 0.0765\n",
      "Epoch 42/200\n",
      "3/3 [==============================] - 1s 437ms/step - loss: 0.0751\n",
      "Epoch 43/200\n",
      "3/3 [==============================] - 1s 433ms/step - loss: 0.0734\n",
      "Epoch 44/200\n",
      "3/3 [==============================] - 1s 438ms/step - loss: 0.0722\n",
      "Epoch 45/200\n",
      "3/3 [==============================] - 1s 437ms/step - loss: 0.0708\n",
      "Epoch 46/200\n",
      "3/3 [==============================] - 1s 437ms/step - loss: 0.0697\n",
      "Epoch 47/200\n",
      "3/3 [==============================] - 1s 433ms/step - loss: 0.0681\n",
      "Epoch 48/200\n",
      "3/3 [==============================] - 1s 437ms/step - loss: 0.0669\n",
      "Epoch 49/200\n",
      "3/3 [==============================] - 1s 443ms/step - loss: 0.0658\n",
      "Epoch 50/200\n",
      "3/3 [==============================] - 1s 431ms/step - loss: 0.0648\n",
      "Epoch 51/200\n",
      "3/3 [==============================] - 1s 439ms/step - loss: 0.0638\n",
      "Epoch 52/200\n",
      "3/3 [==============================] - 1s 441ms/step - loss: 0.0631\n",
      "Epoch 53/200\n",
      "3/3 [==============================] - 1s 441ms/step - loss: 0.0620\n",
      "Epoch 54/200\n",
      "3/3 [==============================] - 1s 441ms/step - loss: 0.0611\n",
      "Epoch 55/200\n",
      "3/3 [==============================] - 1s 440ms/step - loss: 0.0605\n",
      "Epoch 56/200\n",
      "3/3 [==============================] - 1s 441ms/step - loss: 0.0598\n",
      "Epoch 57/200\n",
      "3/3 [==============================] - 1s 443ms/step - loss: 0.0593\n",
      "Epoch 58/200\n",
      "3/3 [==============================] - 1s 437ms/step - loss: 0.0587\n",
      "Epoch 59/200\n",
      "3/3 [==============================] - 1s 440ms/step - loss: 0.0580\n",
      "Epoch 60/200\n",
      "3/3 [==============================] - 1s 444ms/step - loss: 0.0569\n",
      "Epoch 61/200\n",
      "3/3 [==============================] - 1s 447ms/step - loss: 0.0560\n",
      "Epoch 62/200\n",
      "3/3 [==============================] - 1s 442ms/step - loss: 0.0552\n",
      "Epoch 63/200\n",
      "3/3 [==============================] - 1s 442ms/step - loss: 0.0547\n",
      "Epoch 64/200\n",
      "3/3 [==============================] - 1s 441ms/step - loss: 0.0540\n",
      "Epoch 65/200\n",
      "3/3 [==============================] - 1s 449ms/step - loss: 0.0536\n",
      "Epoch 66/200\n",
      "3/3 [==============================] - 1s 445ms/step - loss: 0.0532\n",
      "Epoch 67/200\n",
      "3/3 [==============================] - 1s 445ms/step - loss: 0.0526\n",
      "Epoch 68/200\n",
      "3/3 [==============================] - 1s 447ms/step - loss: 0.0521\n",
      "Epoch 69/200\n",
      "3/3 [==============================] - 1s 449ms/step - loss: 0.0507\n",
      "Epoch 70/200\n",
      "3/3 [==============================] - 1s 446ms/step - loss: 0.0498\n",
      "Epoch 71/200\n",
      "3/3 [==============================] - 1s 447ms/step - loss: 0.0491\n",
      "Epoch 72/200\n",
      "3/3 [==============================] - 1s 447ms/step - loss: 0.0485\n",
      "Epoch 73/200\n",
      "3/3 [==============================] - 1s 449ms/step - loss: 0.0480\n",
      "Epoch 74/200\n",
      "3/3 [==============================] - 1s 454ms/step - loss: 0.0475\n",
      "Epoch 75/200\n",
      "3/3 [==============================] - 1s 445ms/step - loss: 0.0473\n",
      "Epoch 76/200\n",
      "3/3 [==============================] - 1s 449ms/step - loss: 0.0469\n",
      "Epoch 77/200\n",
      "3/3 [==============================] - 1s 447ms/step - loss: 0.0473\n",
      "Epoch 78/200\n",
      "3/3 [==============================] - 1s 448ms/step - loss: 0.0447\n",
      "Epoch 79/200\n",
      "3/3 [==============================] - 1s 444ms/step - loss: 0.0438\n",
      "Epoch 80/200\n",
      "3/3 [==============================] - 1s 447ms/step - loss: 0.0428\n",
      "Epoch 81/200\n",
      "3/3 [==============================] - 1s 455ms/step - loss: 0.0424\n",
      "Epoch 82/200\n",
      "3/3 [==============================] - 1s 453ms/step - loss: 0.0421\n",
      "Epoch 83/200\n",
      "3/3 [==============================] - 1s 449ms/step - loss: 0.0416\n",
      "Epoch 84/200\n",
      "3/3 [==============================] - 1s 442ms/step - loss: 0.0420\n",
      "Epoch 85/200\n",
      "3/3 [==============================] - 1s 447ms/step - loss: 0.0400\n",
      "Epoch 86/200\n",
      "3/3 [==============================] - 1s 443ms/step - loss: 0.0394\n",
      "Epoch 87/200\n",
      "3/3 [==============================] - 1s 445ms/step - loss: 0.0380\n",
      "Epoch 88/200\n",
      "3/3 [==============================] - 1s 441ms/step - loss: 0.0371\n",
      "Epoch 89/200\n",
      "3/3 [==============================] - 1s 442ms/step - loss: 0.0363\n",
      "Epoch 90/200\n",
      "3/3 [==============================] - 1s 447ms/step - loss: 0.0356\n",
      "Epoch 91/200\n",
      "3/3 [==============================] - 1s 447ms/step - loss: 0.0351\n",
      "Epoch 92/200\n",
      "3/3 [==============================] - 1s 437ms/step - loss: 0.0352\n",
      "Epoch 93/200\n",
      "3/3 [==============================] - 1s 444ms/step - loss: 0.0356\n",
      "Epoch 94/200\n",
      "3/3 [==============================] - 1s 440ms/step - loss: 0.0393\n",
      "Epoch 95/200\n",
      "3/3 [==============================] - 1s 441ms/step - loss: 0.0325\n",
      "Epoch 96/200\n",
      "3/3 [==============================] - 1s 441ms/step - loss: 0.0342\n",
      "Epoch 97/200\n",
      "3/3 [==============================] - 1s 439ms/step - loss: 0.0330\n",
      "Epoch 98/200\n",
      "3/3 [==============================] - 1s 445ms/step - loss: 0.0347\n",
      "Epoch 99/200\n",
      "3/3 [==============================] - 1s 450ms/step - loss: 0.0332\n",
      "Epoch 100/200\n",
      "3/3 [==============================] - 1s 447ms/step - loss: 0.0299\n",
      "Epoch 101/200\n",
      "3/3 [==============================] - 1s 444ms/step - loss: 0.0352\n",
      "Epoch 102/200\n",
      "3/3 [==============================] - 1s 443ms/step - loss: 0.0316\n",
      "Epoch 103/200\n",
      "3/3 [==============================] - 1s 448ms/step - loss: 0.0297\n",
      "Epoch 104/200\n",
      "3/3 [==============================] - 1s 442ms/step - loss: 0.0295\n",
      "Epoch 106/200\n",
      "3/3 [==============================] - 1s 440ms/step - loss: 0.0261\n",
      "Epoch 107/200\n",
      "3/3 [==============================] - 1s 451ms/step - loss: 0.0295\n",
      "Epoch 108/200\n",
      "3/3 [==============================] - 1s 437ms/step - loss: 0.0279\n",
      "Epoch 109/200\n",
      "3/3 [==============================] - 1s 443ms/step - loss: 0.0251\n",
      "Epoch 110/200\n",
      "3/3 [==============================] - 1s 442ms/step - loss: 0.0266\n",
      "Epoch 111/200\n",
      "3/3 [==============================] - 1s 442ms/step - loss: 0.0257\n",
      "Epoch 112/200\n",
      "3/3 [==============================] - 1s 440ms/step - loss: 0.0229\n",
      "Epoch 113/200\n",
      "3/3 [==============================] - 1s 440ms/step - loss: 0.0228\n",
      "Epoch 114/200\n",
      "3/3 [==============================] - 1s 439ms/step - loss: 0.0228\n",
      "Epoch 115/200\n",
      "3/3 [==============================] - 1s 443ms/step - loss: 0.0214\n",
      "Epoch 116/200\n",
      "3/3 [==============================] - 1s 437ms/step - loss: 0.0205\n",
      "Epoch 117/200\n",
      "3/3 [==============================] - 1s 446ms/step - loss: 0.0196\n",
      "Epoch 118/200\n",
      "3/3 [==============================] - 1s 440ms/step - loss: 0.0190\n",
      "Epoch 119/200\n",
      "3/3 [==============================] - 1s 445ms/step - loss: 0.0185\n",
      "Epoch 120/200\n",
      "3/3 [==============================] - 1s 445ms/step - loss: 0.0181\n",
      "Epoch 121/200\n",
      "3/3 [==============================] - 1s 441ms/step - loss: 0.0181\n",
      "Epoch 122/200\n",
      "3/3 [==============================] - 1s 451ms/step - loss: 0.0181\n",
      "Epoch 123/200\n",
      "3/3 [==============================] - 1s 439ms/step - loss: 0.0185\n",
      "Epoch 124/200\n",
      "3/3 [==============================] - 1s 439ms/step - loss: 0.0185\n",
      "Epoch 125/200\n",
      "3/3 [==============================] - 1s 446ms/step - loss: 0.0205\n",
      "Epoch 126/200\n",
      "3/3 [==============================] - 1s 440ms/step - loss: 0.0164\n",
      "Epoch 127/200\n",
      "3/3 [==============================] - 1s 440ms/step - loss: 0.0155\n",
      "Epoch 128/200\n",
      "3/3 [==============================] - 1s 476ms/step - loss: 0.0153\n",
      "Epoch 129/200\n",
      "3/3 [==============================] - 1s 489ms/step - loss: 0.0149\n",
      "Epoch 130/200\n",
      "3/3 [==============================] - 1s 451ms/step - loss: 0.0147\n",
      "Epoch 131/200\n",
      "3/3 [==============================] - 1s 453ms/step - loss: 0.0150\n",
      "Epoch 132/200\n",
      "3/3 [==============================] - 1s 439ms/step - loss: 0.0149\n",
      "Epoch 133/200\n",
      "3/3 [==============================] - 1s 441ms/step - loss: 0.0164\n",
      "Epoch 134/200\n",
      "3/3 [==============================] - 1s 444ms/step - loss: 0.0164\n",
      "Epoch 135/200\n",
      "3/3 [==============================] - 1s 439ms/step - loss: 0.0184\n",
      "Epoch 136/200\n",
      "3/3 [==============================] - 1s 440ms/step - loss: 0.0131\n",
      "Epoch 137/200\n",
      "3/3 [==============================] - 1s 437ms/step - loss: 0.0130\n",
      "Epoch 138/200\n",
      "3/3 [==============================] - 1s 439ms/step - loss: 0.0128\n",
      "Epoch 139/200\n",
      "3/3 [==============================] - 1s 442ms/step - loss: 0.0119\n",
      "Epoch 140/200\n",
      "3/3 [==============================] - 1s 443ms/step - loss: 0.0116\n",
      "Epoch 141/200\n",
      "3/3 [==============================] - 1s 442ms/step - loss: 0.0113\n",
      "Epoch 142/200\n",
      "3/3 [==============================] - 1s 439ms/step - loss: 0.0111\n",
      "Epoch 143/200\n",
      "3/3 [==============================] - 1s 438ms/step - loss: 0.0114\n",
      "Epoch 144/200\n",
      "3/3 [==============================] - 1s 441ms/step - loss: 0.0116\n",
      "Epoch 145/200\n",
      "3/3 [==============================] - 1s 443ms/step - loss: 0.0107\n",
      "Epoch 146/200\n",
      "3/3 [==============================] - 1s 439ms/step - loss: 0.0108\n",
      "Epoch 147/200\n",
      "3/3 [==============================] - 1s 441ms/step - loss: 0.0121\n",
      "Epoch 148/200\n",
      "3/3 [==============================] - 1s 437ms/step - loss: 0.0166\n",
      "Epoch 149/200\n",
      "3/3 [==============================] - 1s 444ms/step - loss: 0.0149\n",
      "Epoch 150/200\n",
      "3/3 [==============================] - 1s 445ms/step - loss: 0.0163\n",
      "Epoch 151/200\n",
      "3/3 [==============================] - 1s 437ms/step - loss: 0.0101\n",
      "Epoch 152/200\n",
      "3/3 [==============================] - 1s 439ms/step - loss: 0.0117\n",
      "Epoch 153/200\n",
      "3/3 [==============================] - 1s 442ms/step - loss: 0.0111\n",
      "Epoch 154/200\n",
      "3/3 [==============================] - 1s 439ms/step - loss: 0.0111\n",
      "Epoch 155/200\n",
      "3/3 [==============================] - 1s 443ms/step - loss: 0.0145\n",
      "Epoch 156/200\n",
      "3/3 [==============================] - 1s 439ms/step - loss: 0.0102\n",
      "Epoch 157/200\n",
      "3/3 [==============================] - 1s 442ms/step - loss: 0.0089\n",
      "Epoch 158/200\n",
      "3/3 [==============================] - 1s 442ms/step - loss: 0.0092\n",
      "Epoch 159/200\n",
      "3/3 [==============================] - 1s 441ms/step - loss: 0.0088\n",
      "Epoch 160/200\n",
      "3/3 [==============================] - 1s 442ms/step - loss: 0.0090\n",
      "Epoch 161/200\n",
      "3/3 [==============================] - 1s 443ms/step - loss: 0.0097\n",
      "Epoch 162/200\n",
      "3/3 [==============================] - 1s 444ms/step - loss: 0.0099\n",
      "Epoch 163/200\n",
      "3/3 [==============================] - 1s 438ms/step - loss: 0.0116\n",
      "Epoch 164/200\n",
      "3/3 [==============================] - 1s 436ms/step - loss: 0.0108\n",
      "Epoch 165/200\n",
      "3/3 [==============================] - 1s 444ms/step - loss: 0.0116\n",
      "Epoch 166/200\n",
      "3/3 [==============================] - 1s 447ms/step - loss: 0.0092\n",
      "Epoch 167/200\n",
      "3/3 [==============================] - 1s 440ms/step - loss: 0.0094\n",
      "Epoch 168/200\n",
      "3/3 [==============================] - 1s 439ms/step - loss: 0.0086\n",
      "Epoch 169/200\n",
      "3/3 [==============================] - 1s 440ms/step - loss: 0.0086\n",
      "Epoch 170/200\n",
      "3/3 [==============================] - 1s 445ms/step - loss: 0.0084\n",
      "Epoch 171/200\n",
      "3/3 [==============================] - 1s 436ms/step - loss: 0.0088\n",
      "Epoch 172/200\n",
      "3/3 [==============================] - 1s 441ms/step - loss: 0.0087\n",
      "Epoch 173/200\n",
      "3/3 [==============================] - 1s 437ms/step - loss: 0.0098\n",
      "Epoch 174/200\n",
      "3/3 [==============================] - 1s 438ms/step - loss: 0.0090\n",
      "Epoch 175/200\n",
      "3/3 [==============================] - 1s 439ms/step - loss: 0.0094\n",
      "Epoch 176/200\n",
      "3/3 [==============================] - 1s 436ms/step - loss: 0.0081\n",
      "Epoch 177/200\n",
      "3/3 [==============================] - 1s 437ms/step - loss: 0.0081\n",
      "Epoch 178/200\n",
      "3/3 [==============================] - 1s 440ms/step - loss: 0.0078\n",
      "Epoch 179/200\n",
      "3/3 [==============================] - 1s 444ms/step - loss: 0.0080\n",
      "Epoch 180/200\n",
      "3/3 [==============================] - 1s 437ms/step - loss: 0.0077\n",
      "Epoch 181/200\n",
      "3/3 [==============================] - 1s 439ms/step - loss: 0.0080\n",
      "Epoch 182/200\n",
      "3/3 [==============================] - 1s 444ms/step - loss: 0.0078\n",
      "Epoch 183/200\n",
      "3/3 [==============================] - 1s 445ms/step - loss: 0.0084\n",
      "Epoch 184/200\n",
      "3/3 [==============================] - 1s 437ms/step - loss: 0.0079\n",
      "Epoch 185/200\n",
      "3/3 [==============================] - 1s 437ms/step - loss: 0.0084\n",
      "Epoch 186/200\n",
      "3/3 [==============================] - 1s 437ms/step - loss: 0.0076\n",
      "Epoch 187/200\n",
      "3/3 [==============================] - 1s 444ms/step - loss: 0.0078\n",
      "Epoch 188/200\n",
      "3/3 [==============================] - 1s 431ms/step - loss: 0.0075\n",
      "Epoch 190/200\n",
      "3/3 [==============================] - 1s 437ms/step - loss: 0.0071\n",
      "Epoch 191/200\n",
      "3/3 [==============================] - 1s 434ms/step - loss: 0.0074\n",
      "Epoch 192/200\n",
      "3/3 [==============================] - 1s 440ms/step - loss: 0.0071\n",
      "Epoch 193/200\n",
      "3/3 [==============================] - 1s 437ms/step - loss: 0.0075\n",
      "Epoch 194/200\n",
      "3/3 [==============================] - 1s 435ms/step - loss: 0.0072\n",
      "Epoch 195/200\n",
      "3/3 [==============================] - 1s 431ms/step - loss: 0.0076\n",
      "Epoch 196/200\n",
      "3/3 [==============================] - 1s 439ms/step - loss: 0.0070\n",
      "Epoch 197/200\n",
      "3/3 [==============================] - 1s 437ms/step - loss: 0.0072\n",
      "Epoch 198/200\n",
      "3/3 [==============================] - 1s 433ms/step - loss: 0.0067\n",
      "Epoch 199/200\n",
      "3/3 [==============================] - 1s 434ms/step - loss: 0.0070\n",
      "Epoch 200/200\n",
      "3/3 [==============================] - 1s 426ms/step - loss: 0.0066\n"
     ]
    },
    {
     "data": {
      "text/plain": [
       "<keras.callbacks.History at 0x7fe7b006f3d0>"
      ]
     },
     "execution_count": 13,
     "metadata": {},
     "output_type": "execute_result"
    }
   ],
   "source": [
    "log_dir = \"logs/fit/\" + datetime.datetime.now().strftime(\"%Y%m%d-%H%M%S\")\n",
    "tensorboard_callback = tf.keras.callbacks.TensorBoard(log_dir=log_dir, histogram_freq=1)\n",
    "\n",
    "autoencoder.fit(x_train, x_train,\n",
    "                epochs=200,\n",
    "                shuffle=False,\n",
    "                callbacks = [tensorboard_callback])"
   ]
  },
  {
   "cell_type": "code",
   "execution_count": null,
   "metadata": {
    "colab": {
     "base_uri": "https://localhost:8080/"
    },
    "id": "MyOir3NQz2V4",
    "outputId": "20773ec5-f5bf-48bf-e366-44041bd42e27"
   },
   "outputs": [
    {
     "data": {
      "text/plain": [
       "[0.0,\n",
       " 0.0,\n",
       " 0.0,\n",
       " 0.023115762,\n",
       " 0.09964942,\n",
       " 0.22829549,\n",
       " 0.34283483,\n",
       " 0.51232356,\n",
       " 0.73887825,\n",
       " 0.9851768,\n",
       " 1.1823394,\n",
       " 1.3237983,\n",
       " 1.4891989,\n",
       " 1.6682642,\n",
       " 1.8457333,\n",
       " 2.0399063,\n",
       " 2.2174857,\n",
       " 2.4113166,\n",
       " 2.633393,\n",
       " 2.8517618,\n",
       " 3.0791187,\n",
       " 3.2945728,\n",
       " 3.5174112,\n",
       " 3.7406883,\n",
       " 3.9850545,\n",
       " 4.2846713,\n",
       " 4.5894313,\n",
       " 4.9319124,\n",
       " 5.260917,\n",
       " 5.619043,\n",
       " 5.9257255,\n",
       " 6.2759995,\n",
       " 6.619364,\n",
       " 7.013705,\n",
       " 7.5162206,\n",
       " 8.030764,\n",
       " 8.580696,\n",
       " 9.187527,\n",
       " 9.740726,\n",
       " 10.284674,\n",
       " 10.954828,\n",
       " 11.7027,\n",
       " 12.464638,\n",
       " 13.297426,\n",
       " 14.213337,\n",
       " 15.197612,\n",
       " 16.255753,\n",
       " 17.293829,\n",
       " 18.440144,\n",
       " 19.598269,\n",
       " 20.886292,\n",
       " 22.287949,\n",
       " 23.762615,\n",
       " 25.29708,\n",
       " 26.770687,\n",
       " 28.285315,\n",
       " 29.88383,\n",
       " 31.743832,\n",
       " 33.64876,\n",
       " 35.730965,\n",
       " 37.917816,\n",
       " 40.25759,\n",
       " 42.719704,\n",
       " 45.28782,\n",
       " 48.06321,\n",
       " 51.125263,\n",
       " 54.22036,\n",
       " 57.42981,\n",
       " 60.86011,\n",
       " 64.309555,\n",
       " 67.80397,\n",
       " 71.42285,\n",
       " 75.09017,\n",
       " 78.90427,\n",
       " 82.95339,\n",
       " 87.46399,\n",
       " 92.149826,\n",
       " 97.543304,\n",
       " 103.14862,\n",
       " 108.794846,\n",
       " 115.15637,\n",
       " 122.56215,\n",
       " 132.01978,\n",
       " 142.08768,\n",
       " 152.73492,\n",
       " 163.00632,\n",
       " 172.84344,\n",
       " 182.5612,\n",
       " 191.52646,\n",
       " 199.66972]"
      ]
     },
     "execution_count": 14,
     "metadata": {},
     "output_type": "execute_result"
    }
   ],
   "source": [
    "results = []\n",
    "for e in x_train:\n",
    "    results.append(np.array(autoencoder.encoder(e.reshape(1, 512, 512)))[0, 0])\n",
    "results"
   ]
  },
  {
   "cell_type": "code",
   "execution_count": null,
   "metadata": {
    "colab": {
     "base_uri": "https://localhost:8080/",
     "height": 286
    },
    "id": "Jkzhf68p0HeX",
    "outputId": "595c9dd7-34fe-4ed8-cea0-afcc603448d6"
   },
   "outputs": [
    {
     "data": {
      "text/plain": [
       "<matplotlib.image.AxesImage at 0x7fe7464af550>"
      ]
     },
     "execution_count": 15,
     "metadata": {},
     "output_type": "execute_result"
    },
    {
     "data": {
      "image/png": "[encoded data removed]",
      "text/plain": [
       "<Figure size 432x288 with 1 Axes>"
      ]
     },
     "metadata": {
      "needs_background": "light"
     },
     "output_type": "display_data"
    }
   ],
   "source": [
    "img = autoencoder(x_train[0].reshape(1, 512, 512))\n",
    "img = np.array(img).reshape(512, 512)\n",
    "plt.imshow(img, cmap=\"gray\")"
   ]
  },
  {
   "cell_type": "code",
   "execution_count": null,
   "metadata": {
    "colab": {
     "base_uri": "https://localhost:8080/",
     "height": 282
    },
    "id": "2Vf8PuG67s_5",
    "outputId": "aa405e3e-55d1-4a61-daac-15b65c6752d5"
   },
   "outputs": [
    {
     "data": {
      "text/plain": [
       "[<matplotlib.lines.Line2D at 0x7fe7460d1510>]"
      ]
     },
     "execution_count": 16,
     "metadata": {},
     "output_type": "execute_result"
    },
    {
     "data": {
      "image/png": "[encoded data removed]",
      "text/plain": [
       "<Figure size 432x288 with 1 Axes>"
      ]
     },
     "metadata": {
      "needs_background": "light"
     },
     "output_type": "display_data"
    }
   ],
   "source": [
    "plt.plot(results)"
   ]
  }
 ],
 "metadata": {
  "accelerator": "GPU",
  "colab": {
   "collapsed_sections": [],
   "name": "density_autoencoder.ipynb",
   "provenance": []
  },
  "gpuClass": "standard",
  "kernelspec": {
   "display_name": "Python 3 (ipykernel)",
   "language": "python",
   "name": "python3"
  },
  "language_info": {
   "codemirror_mode": {
    "name": "ipython",
    "version": 3
   },
   "file_extension": ".py",
   "mimetype": "text/x-python",
   "name": "python",
   "nbconvert_exporter": "python",
   "pygments_lexer": "ipython3",
   "version": "3.9.12"
  }
 },
 "nbformat": 4,
 "nbformat_minor": 1
}
