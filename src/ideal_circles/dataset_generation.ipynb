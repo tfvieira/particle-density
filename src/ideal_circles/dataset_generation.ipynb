{
 "cells": [
  {
   "cell_type": "code",
   "execution_count": 25,
   "id": "bd095469",
   "metadata": {},
   "outputs": [],
   "source": [
    "import cv2\n",
    "import numpy as np\n",
    "import os\n",
    "import matplotlib.pyplot as plt\n",
    "from tqdm import tqdm"
   ]
  },
  {
   "cell_type": "code",
   "execution_count": 7,
   "id": "3cb714a9",
   "metadata": {},
   "outputs": [],
   "source": [
    "SIZE = np.array([500, 500])"
   ]
  },
  {
   "cell_type": "code",
   "execution_count": 24,
   "id": "dcf83015",
   "metadata": {},
   "outputs": [
    {
     "data": {
      "text/plain": [
       "<matplotlib.image.AxesImage at 0x296c2efbdc0>"
      ]
     },
     "execution_count": 24,
     "metadata": {},
     "output_type": "execute_result"
    },
    {
     "data": {
      "image/png": "[encoded data removed]",
      "text/plain": [
       "<Figure size 432x288 with 1 Axes>"
      ]
     },
     "metadata": {
      "needs_background": "light"
     },
     "output_type": "display_data"
    }
   ],
   "source": [
    "a = np.zeros(SIZE, dtype=np.uint8)\n",
    "cv2.circle(a, center = (SIZE/2).astype(int), radius = 200, color = 255, thickness = -1)\n",
    "plt.imshow(a, cmap=\"gray\")"
   ]
  },
  {
   "cell_type": "code",
   "execution_count": 35,
   "id": "f02a1f3f",
   "metadata": {},
   "outputs": [],
   "source": [
    "def generate_dataset(img_size, smallest_radius, biggest_radius, delta_r):\n",
    "    img_size = np.array(img_size)\n",
    "    center = (img_size/2).astype(int)\n",
    "    \n",
    "    dir_path = f\"dataset_{smallest_radius}_{biggest_radius}_{delta_r}\"\n",
    "    if not os.path.isdir(dir_path):\n",
    "        os.mkdir(dir_path)\n",
    "    \n",
    "    for r in tqdm(range(smallest_radius, biggest_radius, delta_r)):\n",
    "        img = np.zeros(img_size, dtype=np.uint8)\n",
    "        img = cv2.circle(img, center = center, radius = r, color = 255, thickness = -1)\n",
    "        np.save(os.path.join(dir_path, f\"{r}.npy\"), img)"
   ]
  },
  {
   "cell_type": "code",
   "execution_count": 36,
   "id": "ac8d42d8",
   "metadata": {},
   "outputs": [
    {
     "name": "stderr",
     "output_type": "stream",
     "text": [
      "100%|████████████████████████████████████████████████████████████████████████████████| 90/90 [00:00<00:00, 1401.65it/s]\n"
     ]
    }
   ],
   "source": [
    "generate_dataset((512, 512), 20, 200, 2)"
   ]
  },
  {
   "cell_type": "code",
   "execution_count": null,
   "id": "66d9b112",
   "metadata": {},
   "outputs": [],
   "source": []
  }
 ],
 "metadata": {
  "kernelspec": {
   "display_name": "Python 3 (ipykernel)",
   "language": "python",
   "name": "python3"
  },
  "language_info": {
   "codemirror_mode": {
    "name": "ipython",
    "version": 3
   },
   "file_extension": ".py",
   "mimetype": "text/x-python",
   "name": "python",
   "nbconvert_exporter": "python",
   "pygments_lexer": "ipython3",
   "version": "3.9.12"
  }
 },
 "nbformat": 4,
 "nbformat_minor": 5
}
